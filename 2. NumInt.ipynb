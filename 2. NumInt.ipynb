{
 "cells": [
  {
   "cell_type": "code",
   "execution_count": 1,
   "metadata": {
    "scrolled": false
   },
   "outputs": [
    {
     "name": "stdout",
     "output_type": "stream",
     "text": [
      "Beispielmessreihe mit konstantem T:\n",
      "  rho       T       p       U\n",
      "[[ 0.1     1.4     0.1035 -0.766 ]\n",
      " [ 0.2     1.4     0.1524 -1.483 ]\n",
      " [ 0.3     1.4     0.172  -2.136 ]\n",
      " [ 0.4     1.4     0.196  -2.74  ]\n",
      " [ 0.5     1.4     0.281  -3.366 ]\n",
      " [ 0.6     1.4     0.565  -4.006 ]\n",
      " [ 0.7     1.4     1.292  -4.637 ]\n",
      " [ 0.8     1.4     2.856  -5.199 ]\n",
      " [ 0.9     1.4     5.795  -5.612 ]\n",
      " [ 1.      1.4    10.86   -5.778 ]]\n"
     ]
    },
    {
     "data": {
      "text/plain": [
       "<Figure size 640x480 with 1 Axes>"
      ]
     },
     "metadata": {},
     "output_type": "display_data"
    },
    {
     "name": "stdout",
     "output_type": "stream",
     "text": [
      "Beispielmessreihe mit konstantem rho:\n",
      "  rho       T       p       U\n",
      "[[ 0.1     1.4     0.1035 -0.766 ]\n",
      " [ 0.1     1.6     0.1288 -0.717 ]\n",
      " [ 0.1     1.8     0.1538 -0.683 ]\n",
      " [ 0.1     2.      0.1776 -0.669 ]\n",
      " [ 0.1     2.5     0.2383 -0.625 ]\n",
      " [ 0.1     3.      0.2984 -0.592 ]\n",
      " [ 0.1     4.      0.4154 -0.547 ]\n",
      " [ 0.1     5.      0.5324 -0.51  ]\n",
      " [ 0.1     6.      0.6499 -0.478 ]]\n"
     ]
    },
    {
     "data": {
      "text/plain": [
       "<Figure size 640x480 with 1 Axes>"
      ]
     },
     "metadata": {},
     "output_type": "display_data"
    }
   ],
   "source": [
    "import numpy as np\n",
    "import matplotlib.pyplot as plt\n",
    "\n",
    "# Einlesen der Messwerte\n",
    "data = np.genfromtxt(\"./Data_LJ.txt\",comments='#')\n",
    "\n",
    "# Sortieren der Messwerte\n",
    "constT_1 = data[0:10,:]       # Messreihe T = 1.4, rho variabel\n",
    "constT_2 = data[80:90,:]      # Messreihe T = 6.0, rho variabel\n",
    "\n",
    "\n",
    "constRho_1 = np.zeros((9,4))  # Messreihe rho = 0.1, T variabel\n",
    "constRho_2 = np.zeros((9,4))  # Messreihe rho = 1.0, T variabel\n",
    "for i in range(9):\n",
    "    for j in range(4):\n",
    "        constRho_1[i,j] = data[i*10,j]\n",
    "        constRho_2[i,j] = data[i*10+9,j]\n",
    "        \n",
    "\"\"\"\n",
    "Aufbau dieser Datensätze:\n",
    "0. Spalte = Dichte (rho)\n",
    "1. Spalte = Temperatur (T)\n",
    "2. Spalte = Druck (p)\n",
    "3. Spalte = Innere Energie (U)\n",
    "\"\"\"\n",
    "print (\"Beispielmessreihe mit konstantem T:\")\n",
    "print (\"  rho       T       p       U\")\n",
    "print (constT_1)\n",
    "plt.scatter(constT_1[:,0],constT_1[:,2], label='p(rho; T = 1.4)')\n",
    "plt.scatter(constT_1[:,0],constT_1[:,3], label='U(rho; T = 1.4)')\n",
    "plt.xlabel(\"$\\\\varrho$\")\n",
    "plt.legend()\n",
    "plt.show()\n",
    "\n",
    "print (\"Beispielmessreihe mit konstantem rho:\")\n",
    "print (\"  rho       T       p       U\")\n",
    "print (constRho_1)\n",
    "plt.scatter(constRho_1[:,1],constRho_1[:,2], label='p(rho = 0.1; T)')\n",
    "plt.scatter(constRho_1[:,1],constRho_1[:,3], label='U(rho = 0.1; T)')\n",
    "plt.xlabel(\"$T$\")\n",
    "plt.legend()\n",
    "plt.show()\n"
   ]
  },
  {
   "cell_type": "code",
   "execution_count": 2,
   "metadata": {
    "scrolled": true
   },
   "outputs": [],
   "source": [
    "# Datensatzlänge\n",
    "length_rho = 10\n",
    "length_T = 9\n",
    "# Ab hier beginnt die Umsetzung des Verfahrens aus Aufgabenteil a).\n",
    "# Als Hinweis geben wir Ihnen eine sinnvolle Bezeichnung der zu berechnenden Groessen an:\n",
    "mu_div_T_1 = np.zeros(length_T-1)  # bei festem rho = 0.1\n",
    "mu_div_T_2 = np.zeros(length_T-1)  # bei festem rho = 1.0\n",
    "mu_1 = np.zeros(length_rho-1)        # bei festem T = 1.4\n",
    "mu_2 = np.zeros(length_rho-1)        # bei festem T = 6.0"
   ]
  },
  {
   "cell_type": "code",
   "execution_count": 14,
   "metadata": {},
   "outputs": [],
   "source": [
    "# Numerische Integration (in for-Schleife)\n",
    "def integrateT(bruh,f):\n",
    "    s=0\n",
    "    for i in range(length_T-1):\n",
    "        dx=bruh[i+1,1]-bruh[i,1]\n",
    "        s += (-1*bruh[i,3]*(1 / (bruh[i,1]**2)))*dx+(1 / (bruh[i,1]**2))*dx\n",
    "        f[i]=s\n",
    "    return s\n",
    "#Creating a table for each measument with constant rho for different rhos\n",
    "def constrho(n):\n",
    "    dat = np.zeros((9,4))\n",
    "    for i in range(9):\n",
    "        for j in range(4):\n",
    "            dat[i,j] = data[i*10+n,j]\n",
    "    return dat\n",
    "\n",
    "#Making a table for the different integration values for different rhos\n",
    "val=[]\n",
    "for y in range(length_rho):\n",
    "    val.append(integrateT(constrho(y),mu_div_T_1))\n"
   ]
  },
  {
   "cell_type": "code",
   "execution_count": 16,
   "metadata": {},
   "outputs": [
    {
     "name": "stdout",
     "output_type": "stream",
     "text": [
      "[1.090834984410431, 1.5063306571239607, 1.9006089351851856, 2.287006395345175, 2.667460636180398, 3.034730647518267, 3.366061851694381, 3.6235983120748303, 3.7575046337238605, 3.711700160777274]\n"
     ]
    },
    {
     "data": {
      "image/png": "[encoded data removed]",
      "text/plain": [
       "<Figure size 432x288 with 1 Axes>"
      ]
     },
     "metadata": {},
     "output_type": "display_data"
    }
   ],
   "source": [
    "# Grafische Darstellung\n",
    "print(val)\n",
    "val14=[]\n",
    "for i in val:\n",
    "    val14.append(i*1.4)\n",
    "\n",
    "#as a function of rho\n",
    "plt.scatter(np.arange(0,1,0.1),val14)\n",
    "plt.xlabel(\"$\\\\varrho$\")\n",
    "plt.ylabel(\"$\\\\frac{\\\\mu}{\\\\epsilon}$\")\n",
    "plt.title(\"$\\\\frac{\\\\mu}{\\\\epsilon}$ as a function of $\\\\varrho$ at T=1.4\")\n",
    "plt.show()\n",
    "#as a function of the integration step\n",
    "#plt.scatter(range(length_T-1),mu_div_T_1)\n",
    "#plt.scatter(range(length_T-1),mu_div_T_2)\n",
    "#plt.show()\n",
    "#mu_1=mu_div_T_1*1.4\n",
    "#mu_2=mu_div_T_2*6\n",
    "#plt.scatter(range(length_T-1),mu_1)\n",
    "#plt.scatter(range(length_T-1),mu_2)\n",
    "#plt.show()\n"
   ]
  },
  {
   "cell_type": "code",
   "execution_count": null,
   "metadata": {},
   "outputs": [],
   "source": []
  },
  {
   "cell_type": "code",
   "execution_count": null,
   "metadata": {},
   "outputs": [],
   "source": []
  }
 ],
 "metadata": {
  "kernelspec": {
   "display_name": "Python 3",
   "language": "python",
   "name": "python3"
  },
  "language_info": {
   "codemirror_mode": {
    "name": "ipython",
    "version": 3
   },
   "file_extension": ".py",
   "mimetype": "text/x-python",
   "name": "python",
   "nbconvert_exporter": "python",
   "pygments_lexer": "ipython3",
   "version": "3.6.5"
  }
 },
 "nbformat": 4,
 "nbformat_minor": 2
}
